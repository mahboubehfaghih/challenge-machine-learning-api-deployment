{
 "cells": [
  {
   "cell_type": "code",
   "execution_count": 1,
   "id": "f9f1e428",
   "metadata": {
    "scrolled": true
   },
   "outputs": [],
   "source": [
    "import pandas as pd\n",
    "import numpy as np\n",
    "from sklearn.datasets import make_regression\n",
    "import sklearn.externals\n",
    "import joblib\n",
    "import pickle"
   ]
  },
  {
   "cell_type": "code",
   "execution_count": 2,
   "id": "0a229e5d",
   "metadata": {},
   "outputs": [
    {
     "data": {
      "text/html": [
       "<div>\n",
       "<style scoped>\n",
       "    .dataframe tbody tr th:only-of-type {\n",
       "        vertical-align: middle;\n",
       "    }\n",
       "\n",
       "    .dataframe tbody tr th {\n",
       "        vertical-align: top;\n",
       "    }\n",
       "\n",
       "    .dataframe thead th {\n",
       "        text-align: right;\n",
       "    }\n",
       "</style>\n",
       "<table border=\"1\" class=\"dataframe\">\n",
       "  <thead>\n",
       "    <tr style=\"text-align: right;\">\n",
       "      <th></th>\n",
       "      <th>Price</th>\n",
       "      <th>Number of bedrooms</th>\n",
       "      <th>Living area</th>\n",
       "      <th>Surface area land</th>\n",
       "      <th>Number of facades</th>\n",
       "    </tr>\n",
       "  </thead>\n",
       "  <tbody>\n",
       "    <tr>\n",
       "      <th>0</th>\n",
       "      <td>296607.0</td>\n",
       "      <td>3.0</td>\n",
       "      <td>130.0</td>\n",
       "      <td>239.0</td>\n",
       "      <td>3</td>\n",
       "    </tr>\n",
       "    <tr>\n",
       "      <th>1</th>\n",
       "      <td>560000.0</td>\n",
       "      <td>4.0</td>\n",
       "      <td>NaN</td>\n",
       "      <td>626.0</td>\n",
       "      <td>3</td>\n",
       "    </tr>\n",
       "    <tr>\n",
       "      <th>2</th>\n",
       "      <td>299000.0</td>\n",
       "      <td>5.0</td>\n",
       "      <td>200.0</td>\n",
       "      <td>1150.0</td>\n",
       "      <td>NaN</td>\n",
       "    </tr>\n",
       "    <tr>\n",
       "      <th>3</th>\n",
       "      <td>300000.0</td>\n",
       "      <td>0.0</td>\n",
       "      <td>270.0</td>\n",
       "      <td>498.0</td>\n",
       "      <td>3</td>\n",
       "    </tr>\n",
       "    <tr>\n",
       "      <th>4</th>\n",
       "      <td>195000.0</td>\n",
       "      <td>3.0</td>\n",
       "      <td>135.0</td>\n",
       "      <td>165.0</td>\n",
       "      <td>2</td>\n",
       "    </tr>\n",
       "    <tr>\n",
       "      <th>5</th>\n",
       "      <td>175000.0</td>\n",
       "      <td>3.0</td>\n",
       "      <td>128.0</td>\n",
       "      <td>260.0</td>\n",
       "      <td>2</td>\n",
       "    </tr>\n",
       "    <tr>\n",
       "      <th>6</th>\n",
       "      <td>415000.0</td>\n",
       "      <td>3.0</td>\n",
       "      <td>207.0</td>\n",
       "      <td>534.0</td>\n",
       "      <td>3</td>\n",
       "    </tr>\n",
       "    <tr>\n",
       "      <th>7</th>\n",
       "      <td>405000.0</td>\n",
       "      <td>3.0</td>\n",
       "      <td>207.0</td>\n",
       "      <td>382.0</td>\n",
       "      <td>2</td>\n",
       "    </tr>\n",
       "    <tr>\n",
       "      <th>8</th>\n",
       "      <td>415000.0</td>\n",
       "      <td>3.0</td>\n",
       "      <td>207.0</td>\n",
       "      <td>532.0</td>\n",
       "      <td>3</td>\n",
       "    </tr>\n",
       "    <tr>\n",
       "      <th>9</th>\n",
       "      <td>415000.0</td>\n",
       "      <td>3.0</td>\n",
       "      <td>194.0</td>\n",
       "      <td>457.0</td>\n",
       "      <td>2</td>\n",
       "    </tr>\n",
       "  </tbody>\n",
       "</table>\n",
       "</div>"
      ],
      "text/plain": [
       "      Price  Number of bedrooms  Living area  Surface area land  \\\n",
       "0  296607.0                 3.0        130.0              239.0   \n",
       "1  560000.0                 4.0          NaN              626.0   \n",
       "2  299000.0                 5.0        200.0             1150.0   \n",
       "3  300000.0                 0.0        270.0              498.0   \n",
       "4  195000.0                 3.0        135.0              165.0   \n",
       "5  175000.0                 3.0        128.0              260.0   \n",
       "6  415000.0                 3.0        207.0              534.0   \n",
       "7  405000.0                 3.0        207.0              382.0   \n",
       "8  415000.0                 3.0        207.0              532.0   \n",
       "9  415000.0                 3.0        194.0              457.0   \n",
       "\n",
       "  Number of facades  \n",
       "0                 3  \n",
       "1                 3  \n",
       "2               NaN  \n",
       "3                 3  \n",
       "4                 2  \n",
       "5                 2  \n",
       "6                 3  \n",
       "7                 2  \n",
       "8                 3  \n",
       "9                 2  "
      ]
     },
     "execution_count": 2,
     "metadata": {},
     "output_type": "execute_result"
    }
   ],
   "source": [
    "df = pd.read_csv(\"./data/houses.csv\")\n",
    "del df[\"Unnamed: 0\"]\n",
    "del df[\"Location\"]\n",
    "del df[\"Property type\"]\n",
    "del df[\"Property subtype\"]\n",
    "del df[\"Type of sale\"]\n",
    "del df[\"Kitchen\"]\n",
    "del df[\"Furnished\"]\n",
    "del df[\"Open fireplace\"]\n",
    "del df[\"Terrace\"]\n",
    "del df[\"Terrace orientation\"]\n",
    "del df[\"Garden\"]\n",
    "del df[\"Garden orientation\"]\n",
    "del df[\"Pool\"]\n",
    "del df[\"Condition\"]\n",
    "\n",
    "df.head(10)"
   ]
  },
  {
   "cell_type": "code",
   "execution_count": 3,
   "id": "8466def3",
   "metadata": {},
   "outputs": [],
   "source": [
    "df=df.replace('Unknown', np.NaN, regex=True)"
   ]
  },
  {
   "cell_type": "code",
   "execution_count": 4,
   "id": "1535adb7",
   "metadata": {},
   "outputs": [
    {
     "data": {
      "text/html": [
       "<div>\n",
       "<style scoped>\n",
       "    .dataframe tbody tr th:only-of-type {\n",
       "        vertical-align: middle;\n",
       "    }\n",
       "\n",
       "    .dataframe tbody tr th {\n",
       "        vertical-align: top;\n",
       "    }\n",
       "\n",
       "    .dataframe thead th {\n",
       "        text-align: right;\n",
       "    }\n",
       "</style>\n",
       "<table border=\"1\" class=\"dataframe\">\n",
       "  <thead>\n",
       "    <tr style=\"text-align: right;\">\n",
       "      <th></th>\n",
       "      <th>Price</th>\n",
       "      <th>Number of bedrooms</th>\n",
       "      <th>Living area</th>\n",
       "      <th>Surface area land</th>\n",
       "      <th>Number of facades</th>\n",
       "    </tr>\n",
       "  </thead>\n",
       "  <tbody>\n",
       "    <tr>\n",
       "      <th>0</th>\n",
       "      <td>296607.0</td>\n",
       "      <td>3.0</td>\n",
       "      <td>130.0</td>\n",
       "      <td>239.0</td>\n",
       "      <td>3</td>\n",
       "    </tr>\n",
       "    <tr>\n",
       "      <th>1</th>\n",
       "      <td>560000.0</td>\n",
       "      <td>4.0</td>\n",
       "      <td>NaN</td>\n",
       "      <td>626.0</td>\n",
       "      <td>3</td>\n",
       "    </tr>\n",
       "    <tr>\n",
       "      <th>2</th>\n",
       "      <td>299000.0</td>\n",
       "      <td>5.0</td>\n",
       "      <td>200.0</td>\n",
       "      <td>1150.0</td>\n",
       "      <td>NaN</td>\n",
       "    </tr>\n",
       "    <tr>\n",
       "      <th>3</th>\n",
       "      <td>300000.0</td>\n",
       "      <td>0.0</td>\n",
       "      <td>270.0</td>\n",
       "      <td>498.0</td>\n",
       "      <td>3</td>\n",
       "    </tr>\n",
       "    <tr>\n",
       "      <th>4</th>\n",
       "      <td>195000.0</td>\n",
       "      <td>3.0</td>\n",
       "      <td>135.0</td>\n",
       "      <td>165.0</td>\n",
       "      <td>2</td>\n",
       "    </tr>\n",
       "  </tbody>\n",
       "</table>\n",
       "</div>"
      ],
      "text/plain": [
       "      Price  Number of bedrooms  Living area  Surface area land  \\\n",
       "0  296607.0                 3.0        130.0              239.0   \n",
       "1  560000.0                 4.0          NaN              626.0   \n",
       "2  299000.0                 5.0        200.0             1150.0   \n",
       "3  300000.0                 0.0        270.0              498.0   \n",
       "4  195000.0                 3.0        135.0              165.0   \n",
       "\n",
       "  Number of facades  \n",
       "0                 3  \n",
       "1                 3  \n",
       "2               NaN  \n",
       "3                 3  \n",
       "4                 2  "
      ]
     },
     "execution_count": 4,
     "metadata": {},
     "output_type": "execute_result"
    }
   ],
   "source": [
    "df.head()"
   ]
  },
  {
   "cell_type": "code",
   "execution_count": 5,
   "id": "a36a6a8b",
   "metadata": {},
   "outputs": [
    {
     "data": {
      "text/plain": [
       "(10082, 5)"
      ]
     },
     "execution_count": 5,
     "metadata": {},
     "output_type": "execute_result"
    }
   ],
   "source": [
    "df.shape"
   ]
  },
  {
   "cell_type": "code",
   "execution_count": 6,
   "id": "feb0d24c",
   "metadata": {},
   "outputs": [
    {
     "name": "stdout",
     "output_type": "stream",
     "text": [
      "Price                  124\n",
      "Number of bedrooms     112\n",
      "Living area           2332\n",
      "Surface area land      112\n",
      "Number of facades     2307\n",
      "dtype: int64\n"
     ]
    }
   ],
   "source": [
    "print(df.isnull().sum())"
   ]
  },
  {
   "cell_type": "code",
   "execution_count": 7,
   "id": "36f4f117",
   "metadata": {},
   "outputs": [
    {
     "data": {
      "text/plain": [
       "Index(['Price', 'Number of bedrooms', 'Living area', 'Surface area land',\n",
       "       'Number of facades'],\n",
       "      dtype='object')"
      ]
     },
     "execution_count": 7,
     "metadata": {},
     "output_type": "execute_result"
    }
   ],
   "source": [
    "df.columns"
   ]
  },
  {
   "cell_type": "code",
   "execution_count": 8,
   "id": "bbd95f87",
   "metadata": {},
   "outputs": [
    {
     "data": {
      "text/plain": [
       "(6323, 5)"
      ]
     },
     "execution_count": 8,
     "metadata": {},
     "output_type": "execute_result"
    }
   ],
   "source": [
    "df = df.dropna(axis=0, how='any', thresh=None, subset=[\"Price\",\"Number of bedrooms\",\"Living area\",\"Number of facades\", \"Surface area land\"], inplace=False)\n",
    "\n",
    "df.shape"
   ]
  },
  {
   "cell_type": "code",
   "execution_count": 9,
   "id": "5be98bc0",
   "metadata": {},
   "outputs": [],
   "source": [
    "# generate regression dataset\n",
    "\n",
    "featurs=[\"Number of bedrooms\",\"Living area\",\"Number of facades\", \"Surface area land\"]\n",
    "X= df[featurs]\n",
    "y=df['Price']"
   ]
  },
  {
   "cell_type": "code",
   "execution_count": 10,
   "id": "3eb3c471",
   "metadata": {},
   "outputs": [
    {
     "name": "stdout",
     "output_type": "stream",
     "text": [
      "(6323, 4)\n",
      "(6323,)\n"
     ]
    }
   ],
   "source": [
    "print(X.shape)\n",
    "print(y.shape)"
   ]
  },
  {
   "cell_type": "code",
   "execution_count": 12,
   "id": "70d3e07a",
   "metadata": {},
   "outputs": [
    {
     "data": {
      "text/html": [
       "<div>\n",
       "<style scoped>\n",
       "    .dataframe tbody tr th:only-of-type {\n",
       "        vertical-align: middle;\n",
       "    }\n",
       "\n",
       "    .dataframe tbody tr th {\n",
       "        vertical-align: top;\n",
       "    }\n",
       "\n",
       "    .dataframe thead th {\n",
       "        text-align: right;\n",
       "    }\n",
       "</style>\n",
       "<table border=\"1\" class=\"dataframe\">\n",
       "  <thead>\n",
       "    <tr style=\"text-align: right;\">\n",
       "      <th></th>\n",
       "      <th>Price</th>\n",
       "      <th>Number of bedrooms</th>\n",
       "      <th>Living area</th>\n",
       "      <th>Surface area land</th>\n",
       "    </tr>\n",
       "  </thead>\n",
       "  <tbody>\n",
       "    <tr>\n",
       "      <th>Price</th>\n",
       "      <td>1.000000</td>\n",
       "      <td>0.392449</td>\n",
       "      <td>0.570532</td>\n",
       "      <td>0.158391</td>\n",
       "    </tr>\n",
       "    <tr>\n",
       "      <th>Number of bedrooms</th>\n",
       "      <td>0.392449</td>\n",
       "      <td>1.000000</td>\n",
       "      <td>0.412824</td>\n",
       "      <td>0.072894</td>\n",
       "    </tr>\n",
       "    <tr>\n",
       "      <th>Living area</th>\n",
       "      <td>0.570532</td>\n",
       "      <td>0.412824</td>\n",
       "      <td>1.000000</td>\n",
       "      <td>0.134033</td>\n",
       "    </tr>\n",
       "    <tr>\n",
       "      <th>Surface area land</th>\n",
       "      <td>0.158391</td>\n",
       "      <td>0.072894</td>\n",
       "      <td>0.134033</td>\n",
       "      <td>1.000000</td>\n",
       "    </tr>\n",
       "  </tbody>\n",
       "</table>\n",
       "</div>"
      ],
      "text/plain": [
       "                       Price  Number of bedrooms  Living area  \\\n",
       "Price               1.000000            0.392449     0.570532   \n",
       "Number of bedrooms  0.392449            1.000000     0.412824   \n",
       "Living area         0.570532            0.412824     1.000000   \n",
       "Surface area land   0.158391            0.072894     0.134033   \n",
       "\n",
       "                    Surface area land  \n",
       "Price                        0.158391  \n",
       "Number of bedrooms           0.072894  \n",
       "Living area                  0.134033  \n",
       "Surface area land            1.000000  "
      ]
     },
     "execution_count": 12,
     "metadata": {},
     "output_type": "execute_result"
    }
   ],
   "source": [
    "correlation= df.corr()\n",
    "correlation"
   ]
  },
  {
   "cell_type": "code",
   "execution_count": 13,
   "id": "e6053801",
   "metadata": {},
   "outputs": [],
   "source": [
    "# split into train and test sets\n",
    "\n",
    "from sklearn.model_selection import train_test_split\n",
    "from sklearn import datasets\n",
    "\n",
    "X_train, X_test, y_train, y_test = train_test_split(X, y, test_size = 0.2, random_state = 0)"
   ]
  },
  {
   "cell_type": "code",
   "execution_count": 14,
   "id": "b1487b3a",
   "metadata": {},
   "outputs": [
    {
     "name": "stdout",
     "output_type": "stream",
     "text": [
      "Train (5058, 4) (5058,)\n",
      "Test (1265, 4) (1265,)\n"
     ]
    }
   ],
   "source": [
    "print('Train', X_train.shape, y_train.shape)\n",
    "print('Test', X_test.shape, y_test.shape)"
   ]
  },
  {
   "cell_type": "code",
   "execution_count": 15,
   "id": "81daec59",
   "metadata": {},
   "outputs": [
    {
     "data": {
      "text/plain": [
       "LinearRegression()"
      ]
     },
     "execution_count": 15,
     "metadata": {},
     "output_type": "execute_result"
    }
   ],
   "source": [
    "# Load and fit the model\n",
    "from sklearn.linear_model import LinearRegression\n",
    "\n",
    "regressor= LinearRegression()\n",
    "\n",
    "regressor.fit(X_train, y_train)"
   ]
  },
  {
   "cell_type": "code",
   "execution_count": 16,
   "id": "3939a46f",
   "metadata": {},
   "outputs": [
    {
     "data": {
      "text/plain": [
       "0.3907144453905257"
      ]
     },
     "execution_count": 16,
     "metadata": {},
     "output_type": "execute_result"
    }
   ],
   "source": [
    "regressor.score(X_train, y_train)"
   ]
  },
  {
   "cell_type": "code",
   "execution_count": 17,
   "id": "fccab764",
   "metadata": {},
   "outputs": [
    {
     "data": {
      "text/plain": [
       "0.2956051548818358"
      ]
     },
     "execution_count": 17,
     "metadata": {},
     "output_type": "execute_result"
    }
   ],
   "source": [
    "regressor.score(X_test, y_test)"
   ]
  },
  {
   "cell_type": "code",
   "execution_count": 18,
   "id": "5b4edfdc",
   "metadata": {},
   "outputs": [
    {
     "data": {
      "text/plain": [
       "array([372911.35571806, 468808.02692676, 679084.89082624, ...,\n",
       "       345672.63012018, 476417.10250819, 391085.0567743 ])"
      ]
     },
     "execution_count": 18,
     "metadata": {},
     "output_type": "execute_result"
    }
   ],
   "source": [
    "#Test your model\n",
    "\n",
    "price_predict= regressor.predict(X_test)\n",
    "price_predict"
   ]
  },
  {
   "cell_type": "code",
   "execution_count": 19,
   "id": "aa64ac67",
   "metadata": {},
   "outputs": [],
   "source": [
    "### Save our model, This will generate .pkl file in your currentl dircetroy, your model is ready to use.\n",
    "#joblib.dump(regressor,\"house_price_prediction.pkl\")\n",
    "pickle.dump(regressor,open('house_price_prediction.pkl','wb'))"
   ]
  }
 ],
 "metadata": {
  "kernelspec": {
   "display_name": "Python 3 (ipykernel)",
   "language": "python",
   "name": "python3"
  },
  "language_info": {
   "codemirror_mode": {
    "name": "ipython",
    "version": 3
   },
   "file_extension": ".py",
   "mimetype": "text/x-python",
   "name": "python",
   "nbconvert_exporter": "python",
   "pygments_lexer": "ipython3",
   "version": "3.8.13"
  }
 },
 "nbformat": 4,
 "nbformat_minor": 5
}
